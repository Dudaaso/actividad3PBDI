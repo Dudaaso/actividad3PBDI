{
 "cells": [
  {
   "cell_type": "code",
   "execution_count": 7,
   "metadata": {},
   "outputs": [],
   "source": [
    "import http.client"
   ]
  },
  {
   "cell_type": "code",
   "execution_count": 8,
   "metadata": {},
   "outputs": [],
   "source": [
    "conn = http.client.HTTPSConnection(\"transfermarket.p.rapidapi.com\")"
   ]
  },
  {
   "cell_type": "code",
   "execution_count": 9,
   "metadata": {},
   "outputs": [],
   "source": [
    "headers = {\n",
    "    'x-rapidapi-host': \"transfermarket.p.rapidapi.com\",\n",
    "    'x-rapidapi-key': \"0befacfa7cmsh21a2755b0b10e23p1b6c07jsncb87bf86d270\"\n",
    "    }"
   ]
  },
  {
   "cell_type": "code",
   "execution_count": 10,
   "metadata": {},
   "outputs": [],
   "source": [
    "conn.request(\"GET\", \"/search?query=chelsea\", headers=headers)"
   ]
  },
  {
   "cell_type": "code",
   "execution_count": 11,
   "metadata": {},
   "outputs": [],
   "source": [
    "res = conn.getresponse()\n",
    "data = res.read()"
   ]
  },
  {
   "cell_type": "code",
   "execution_count": 12,
   "metadata": {},
   "outputs": [
    {
     "name": "stdout",
     "output_type": "stream",
     "text": [
      "{\"count\":{\"players\":2,\"coaches\":0,\"clubs\":16,\"competitions\":0,\"referees\":0},\"players\":[{\"id\":\"196086\",\"playerName\":\"Bobby Moore\",\"firstName\":\"Bobby\",\"lastName\":\"Moore\",\"alias\":\"\",\"nationImage\":\"https:\\/\\/tmssl.akamaized.net\\/images\\/flagge\\/verysmall\\/189.png?lm=1520611569\",\"club\":\"---\",\"playerImage\":\"https:\\/\\/img.a.transfermarkt.technology\\/portrait\\/medium\\/196086-1598442308.jpg?lm=1\"},{\"id\":\"759404\",\"playerName\":\"Chelsea Gracias\",\"firstName\":\"Chelsea\",\"lastName\":\"Gracias\",\"alias\":\"\",\"nationImage\":\"https:\\/\\/tmssl.akamaized.net\\/images\\/flagge\\/verysmall\\/67.png?lm=1520611569\",\"club\":\"Churchill Brothers SC U18\",\"playerImage\":\"https:\\/\\/img.a.transfermarkt.technology\\/portrait\\/medium\\/default.jpg?lm=1\"}],\"clubs\":[{\"id\":\"631\",\"league\":\"GB1\",\"competitionID\":\"GB1\",\"competitionName\":\"Premier League\",\"name\":\"FC Chelsea\",\"logoImage\":\"https:\\/\\/tmssl.akamaized.net\\/images\\/wappen\\/medium\\/631.png?lm=1628160548\"},{\"id\":\"9250\",\"league\":\"GB21\",\"competitionID\":\"GB21\",\"competitionName\":\"Premier League 2\",\"name\":\"FC Chelsea U23\",\"logoImage\":\"https:\\/\\/tmssl.akamaized.net\\/images\\/wappen\\/medium\\/9250.png?lm=1628074311\"},{\"id\":\"35137\",\"league\":\"GHPL\",\"competitionID\":\"GHPL\",\"competitionName\":\"Ghana Premier League\",\"name\":\"Berekum Chelsea FC\",\"logoImage\":\"https:\\/\\/tmssl.akamaized.net\\/images\\/wappen\\/medium\\/35137.png?lm=1472812036\"},{\"id\":\"41573\",\"league\":\"\",\"competitionID\":\"\",\"competitionName\":\"\",\"name\":\"FC Chelsea UEFA U19\",\"logoImage\":\"https:\\/\\/tmssl.akamaized.net\\/images\\/wappen\\/medium\\/41573.png?lm=1628160548\"},{\"id\":\"72619\",\"league\":\"\",\"competitionID\":\"\",\"competitionName\":\"\",\"name\":\"Berekum Chelsea Jugend\",\"logoImage\":\"https:\\/\\/tmssl.akamaized.net\\/images\\/wappen\\/medium\\/72619.png?lm=1550056408\"},{\"id\":\"6918\",\"league\":\"GB18\",\"competitionID\":\"GB18\",\"competitionName\":\"U18 Premier League\",\"name\":\"FC Chelsea U18\",\"logoImage\":\"https:\\/\\/tmssl.akamaized.net\\/images\\/wappen\\/medium\\/6918.png?lm=1628160548\"},{\"id\":\"76705\",\"league\":\"\",\"competitionID\":\"\",\"competitionName\":\"\",\"name\":\"Chelsea FC Soccer School (Hong Kong)\",\"logoImage\":\"https:\\/\\/tmssl.akamaized.net\\/images\\/wappen\\/medium\\/76705.png?lm=1615915445\"},{\"id\":\"50677\",\"league\":\"\",\"competitionID\":\"\",\"competitionName\":\"\",\"name\":\"FC Chelsea Jugend\",\"logoImage\":\"https:\\/\\/tmssl.akamaized.net\\/images\\/wappen\\/medium\\/50677.png?lm=1628074311\"},{\"id\":\"87199\",\"league\":\"\",\"competitionID\":\"\",\"competitionName\":\"\",\"name\":\"Chelsea FC Soccer School (HK) Jugend\",\"logoImage\":\"https:\\/\\/tmssl.akamaized.net\\/images\\/wappen\\/medium\\/87199.png?lm=1615915446\"},{\"id\":\"39362\",\"league\":\"\",\"competitionID\":\"\",\"competitionName\":\"\",\"name\":\"Chelsea United SC\",\"logoImage\":\"https:\\/\\/tmssl.akamaized.net\\/images\\/wappen\\/medium\\/default.png?lm=1457423031\"}]}\n"
     ]
    }
   ],
   "source": [
    "print(data.decode(\"utf-8\"))"
   ]
  },
  {
   "cell_type": "code",
   "execution_count": null,
   "metadata": {},
   "outputs": [],
   "source": []
  }
 ],
 "metadata": {
  "kernelspec": {
   "display_name": "Python 3",
   "language": "python",
   "name": "python3"
  },
  "language_info": {
   "codemirror_mode": {
    "name": "ipython",
    "version": 3
   },
   "file_extension": ".py",
   "mimetype": "text/x-python",
   "name": "python",
   "nbconvert_exporter": "python",
   "pygments_lexer": "ipython3",
   "version": "3.7.3"
  }
 },
 "nbformat": 4,
 "nbformat_minor": 2
}
